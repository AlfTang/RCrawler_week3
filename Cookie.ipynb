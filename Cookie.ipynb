{
 "cells": [
  {
   "cell_type": "markdown",
   "metadata": {
    "slideshow": {
     "slide_type": "slide"
    }
   },
   "source": [
    "##第2關 Cookie 打怪\n",
    "## 本次魔王：Pixiv \n",
    "<a href='http://www.pixiv.net/' ><img src=\"fig/pixiv.png\" height=430></a>"
   ]
  },
  {
   "cell_type": "markdown",
   "metadata": {
    "slideshow": {
     "slide_type": "slide"
    }
   },
   "source": [
    "## 爬蟲爬蟲，我想要登入爬美美的插圖>///<\n",
    "* 登入通常有點麻煩，我們先處理這部份。爬美美的圖，我們晚點再說~\n",
    "* 試用帳號~\n",
    "    * account: r01323019@ntu.edu.tw\n",
    "    * passwd: 12345678\n",
    "\n"
   ]
  },
  {
   "cell_type": "markdown",
   "metadata": {
    "slideshow": {
     "slide_type": "-"
    }
   },
   "source": [
    "## 爬蟲爬蟲，我想要登入！\n",
    "* 首先，先分析一下對手的行為\n",
    "* 登入前，cookie 很乾淨~\n",
    "<a href=\"http://www.pixiv.net/\"><img src='fig/login_before.png' height=430></a>"
   ]
  },
  {
   "cell_type": "markdown",
   "metadata": {},
   "source": [
    "## 爬蟲爬蟲，我想要登入！\n",
    "* 首先，先分析一下對手的行為\n",
    "* 登入前，cookie 很乾淨~\n",
    "* 登入後，出現了很多 cookie ! 重敲一次頁面，還需要輸入帳號密碼嗎？\n",
    "<a href=\"http://www.pixiv.net/\"><img src='fig/login_after.png' height=430></a>"
   ]
  },
  {
   "cell_type": "markdown",
   "metadata": {},
   "source": [
    "## 爬蟲爬蟲，我想要登入！\n",
    "* 首先，先分析一下對手的行為\n",
    "* 登入前，cookie 很乾淨~\n",
    "* 登入後，出現了很多 cookie ! 重敲一次頁面，還需要輸入帳號密碼嗎？\n",
    "* 將 cookie 塞入 Request header，重新造訪網頁！\n",
    "<a href=\"http://www.pixiv.net/\"><img src='fig/get_cookie.png' height=430></a>"
   ]
  },
  {
   "cell_type": "markdown",
   "metadata": {},
   "source": [
    "### 起手式 - httr:: GET()\n",
    "http://stackoverflow.com/questions/26441865/how-to-properly-set-cookies-to-get-url-content-using-httr"
   ]
  },
  {
   "cell_type": "code",
   "execution_count": null,
   "metadata": {
    "collapsed": true
   },
   "outputs": [],
   "source": []
  }
 ],
 "metadata": {
  "celltoolbar": "Slideshow",
  "kernelspec": {
   "display_name": "R",
   "language": "R",
   "name": "ir"
  },
  "language_info": {
   "codemirror_mode": "r",
   "file_extension": ".r",
   "mimetype": "text/x-r-source",
   "name": "R",
   "pygments_lexer": "r",
   "version": "3.1.2"
  }
 },
 "nbformat": 4,
 "nbformat_minor": 0
}
