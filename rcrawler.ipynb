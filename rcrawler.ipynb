{
 "cells": [
  {
   "cell_type": "code",
   "execution_count": 4,
   "metadata": {
    "collapsed": false
   },
   "outputs": [],
   "source": [
    "library(RCurl)\n",
    "library(XML)"
   ]
  },
  {
   "cell_type": "code",
   "execution_count": 36,
   "metadata": {
    "collapsed": false
   },
   "outputs": [],
   "source": [
    "taiTrain = getURL(\"http://210.71.181.60/csearch.htm\",  useragent=\"test\",  referer=\"http://210.71.181.60\", encoding='big5')"
   ]
  },
  {
   "cell_type": "code",
   "execution_count": 37,
   "metadata": {
    "collapsed": false
   },
   "outputs": [
    {
     "data": {
      "text/plain": [
       "[1] \"<!DOCTYPE html PUBLIC \\\"-//W3C//DTD HTML 4.01 Transitional//EN\\\" \\\"http://www.w3.org/TR/html4/loose.dtd\\\">\\n<html>\\n<head>\\n\\t<title>¬d¸ß³Ñ¾l¨®²¼</title>\\n\\t<meta http-equiv=\\\"Content-Type\\\" content=\\\"text/html; charset=big5\\\">\\n\\t<meta http-equiv=\\\"Pragma\\\" content=\\\"no-cache\\\">\\n\\t<meta http-equiv=\\\"Cache-Control\\\" content=\\\"no-cache, no-store, max-age=0, must-revalidate\\\">\\n\\t<meta http-equiv=\\\"Expires\\\" content=\\\"0\\\">\\n\\t<link href=\\\"./CssStyle/master.css\\\" rel=\\\"stylesheet\\\" type=\\\"text/css\\\">\\n\\t<style type=\\\"text/css\\\">\\n\\t\\tinput, select {font-family:Arial;}\\n\\t</style>\\n</head>\\n<body>\\n<div><a href=\\\"#\\\" accesskey=\\\"C\\\" title=\\\"¤¤¶¡¥D­n¤º®e°Ï¡A¦¹°Ï¶ô§e²{ºô­¶ªººô­¶¤º®e\\\">:::</a></div>\\n<table width=\\\"100%\\\" border=\\\"0\\\">\\n\\t<tr>\\n\\t\\t<td background=\\\"./Images/title_bg.jpg\\\" style=\\\"text-align:left\\\"><img src=\\\"./Images/title_09.jpg\\\" alt=\\\"¬d¸ß³Ñ¾l¨®²¼\\\"></td>\\n\\t</tr>\\n</table>\\n<br>\\n<form method=\\\"POST\\\" action=\\\"check_csearch.jsp\\\" name=\\\"csearch\\\">\\n<table border=\\\"0\\\" cellpadding=\\\"5\\\" cellspacing=\\\"5\\\">\\n\\t<tr>\\n\\t\\t<td width=\\\"15%\\\" class=\\\"brown02\\\"><label for=\\\"person_id\\\">¨­¤ÀÃÒ¦r¸¹</label>¡G</td>\\n\\t\\t<td width=\\\"35%\\\"><input type=\\\"text\\\" name=\\\"person_id\\\" id=\\\"person_id\\\" size=\\\"10\\\"> <a href=\\\"./net_eng.htm\\\" title=\\\"¥~°ê®È«È­q²¼\\\"><img src=\\\"./Images/ToEngButton.gif\\\" style=\\\"cursor:pointer; border:0;\\\" alt=\\\"¥~°ê®È«È­q²¼\\\" /></a></td>\\n\\t\\t<td width=\\\"15%\\\"></td><!--¤U­±ªí®æ±Æª©¥Î-->\\n\\t\\t<td width=\\\"35%\\\"></td><!--¤U­±ªí®æ±Æª©¥Î-->\\n\\t</tr>\\n\\t<tr>\\n\\t\\t<td class=\\\"brown02\\\"><label for=\\\"from_station\\\">°_¯¸¥N½X</label>¡G</td>\\n\\t\\t<td>\\n\\t\\t\\t<select name=\\\"from_station\\\" id=\\\"from_station\\\">\\n<option selected value=004>004-¥xªF</option>\\n<option  value=008>008-³À³¥</option>\\n<option  value=009>009-·ç·½</option>\\n<option  value=012>012-Ãö¤s</option>\\n<option  value=015>015-¦À¤W</option>\\n<option  value=018>018-´I¨½</option>\\n<option  value=020>020-ªF¦Ë</option>\\n<option  value=022>022-ªF¨½</option>\\n<option  value=025>025-¥É¨½</option>\\n<option  value=029>029-·çÁJ</option>\\n<option  value=031>031-´I·½</option>\\n<option  value=034>034-¥ú´_</option>\\n<option  value=035>035-¸Uºa</option>\\n<option  value=036>036-»ñªL</option>\\n<option  value=037>037-«n¥­</option>\\n<option  value=040>040-Â×¥Ð</option>\\n<option  value=041>041-¹ØÂ×</option>\\n<option  value=043>043-§Ó¾Ç</option>\\n<option  value=045>045-¦N¦w</option>\\n<option  value=051>051-ªá½¬</option>\\n<option  value=052>052-¥_®H</option>\\n<option  value=054>054-·s«°</option>\\n<option  value=055>055-±R¼w</option>\\n<option  value=056>056-©M¤¯</option>\\n<option  value=057>057-©M¥­</option>\\n<option  value=062>062-«n¿D</option>\\n<option  value=063>063-ªF¿D</option>\\n<option  value=066>066-Ä¬¿D</option>\\n<option  value=067>067-Ä¬¿D·s</option>\\n<option  value=069>069-¥V¤s</option>\\n<option  value=070>070-Ã¹ªF</option>\\n<option  value=072>072-¤Gµ²</option>\\n<option  value=073>073-©yÄõ</option>\\n<option  value=074>074-¥|«°</option>\\n<option  value=075>075-ÁG·Ë</option>\\n<option  value=077>077-ÀY«°</option>\\n<option  value=079>079-Àt¤s</option>\\n<option  value=080>080-¤j·Ë</option>\\n<option  value=081>081-¤j¨½</option>\\n<option  value=083>083-çÄ¶©</option>\\n<option  value=084>084-°^¼d</option>\\n<option  value=085>085-Âù·Ë</option>\\n<option  value=086>086-¨d¤¦</option>\\n<option  value=087>087-¤T¶IÀ­</option>\\n<option  value=088>088-µUÖ»</option>\\n<option  value=089>089-·çªÚ</option>\\n<option  value=090>090-¥|¸}«F</option>\\n<option  value=092>092-°ò¶©</option>\\n<option  value=093>093-¤K°ô</option>\\n<option  value=094>094-¤C°ô</option>\\n<option  value=096>096-¦Á¤î</option>\\n<option  value=097>097-«n´ä</option>\\n<option  value=098>098-ªQ¤s</option>\\n<option  value=100>100-¥x¥_</option>\\n<option  value=101>101-¸UµØ</option>\\n<option  value=102>102-ªO¾ô</option>\\n<option  value=103>103-¾ðªL</option>\\n<option  value=104>104-¤s¨Î</option>\\n<option  value=105>105-Åaºq</option>\\n<option  value=106>106-®ç¶é</option>\\n<option  value=107>107-¤ºÃc</option>\\n<option  value=108>108-¤¤Ãc</option>\\n<option  value=109>109-®H¤ß</option>\\n<option  value=110>110-·¨±ö</option>\\n<option  value=111>111-´I©£</option>\\n<option  value=112>112-´ò¤f</option>\\n<option  value=113>113-·sÂ×</option>\\n<option  value=114>114-¦Ë¥_</option>\\n<option  value=115>115-·s¦Ë</option>\\n<option  value=118>118-¦Ë«n</option>\\n<option  value=119>119-½Í¤å</option>\\n<option  value=120>120-¤j¤s</option>\\n<option  value=121>121-«áÀs</option>\\n<option  value=123>123-¥Õ¨F¤Ù</option>\\n<option  value=124>124-·s®H</option>\\n<option  value=125>125-³q¾]</option>\\n<option  value=126>126-­b¸Ì</option>\\n<option  value=127>127-¤é«n</option>\\n<option  value=128>128-¤j¥Ò</option>\\n<option  value=129>129-¥x¤¤´ä</option>\\n<option  value=130>130-²M¤ô</option>\\n<option  value=131>131-¨F³À</option>\\n<option  value=132>132-Às¤«</option>\\n<option  value=133>133-¤j¨{</option>\\n<option  value=134>134-°l¤À</option>\\n<option  value=135>135-³y¾ô</option>\\n<option  value=137>137-­]®ß</option>\\n<option  value=139>139-»ÉÆr</option>\\n<option  value=140>140-¤T¸q</option>\\n<option  value=142>142-®õ¦w</option>\\n<option  value=143>143-¦Z¨½</option>\\n<option  value=144>144-Â×­ì</option>\\n<option  value=145>145-¼æ¤l</option>\\n<option  value=146>146-¥x¤¤</option>\\n<option  value=147>147-¯Q¤é</option>\\n<option  value=148>148-¦¨¥\\\\</option>\\n<option  value=149>149-¹ü¤Æ</option>\\n<option  value=150>150-ªá¾Â</option>\\n<option  value=151>151-­ûªL</option>\\n<option  value=153>153-ªÀÀY</option>\\n<option  value=154>154-¥Ð¤¤</option>\\n<option  value=155>155-¤G¤ô</option>\\n<option  value=156>156-ªL¤º</option>\\n<option  value=158>158-¤æ¤»</option>\\n<option  value=159>159-¤æ«n</option>\\n<option  value=161>161-¤jªL</option>\\n<option  value=162>162-¥Á¶¯</option>\\n<option  value=163>163-¹Å¸q</option>\\n<option  value=164>164-¤ô¤W</option>\\n<option  value=166>166-«á¾À</option>\\n<option  value=167>167-·sÀç</option>\\n<option  value=169>169-ªL»ñÀç</option>\\n<option  value=170>170-¶©¥Ð</option>\\n<option  value=171>171-©ÞªL</option>\\n<option  value=172>172-µ½¤Æ</option>\\n<option  value=173>173-·s¥«</option>\\n<option  value=174>174-¥Ã±d</option>\\n<option  value=175>175-¥x«n</option>\\n<option  value=176>176-«O¦w</option>\\n<option  value=177>177-¤¤¬w</option>\\n<option  value=178>178-¤j´ò</option>\\n<option  value=179>179-¸ô¦Ë</option>\\n<option  value=180>180-©£¤s</option>\\n<option  value=181>181-¾ôÀY</option>\\n<option  value=183>183-·£±ê</option>\\n<option  value=184>184-¥ªÀç</option>\\n<option  value=185>185-°ª¶¯</option>\\n<option  value=186>186-»ñ¤s</option>\\n<option  value=187>187-«áÉÜ</option>\\n<option  value=188>188-¤E¦±°ó</option>\\n<option  value=190>190-«ÌªF</option>\\n<option  value=193>193-¦è¶Õ</option>\\n<option  value=194>194-¦Ë¥Ð</option>\\n<option  value=195>195-¼é¦{</option>\\n<option  value=197>197-«n¦{</option>\\n<option  value=199>199-ªLÃä</option>\\n<option  value=200>200-¨Î¥V</option>\\n<option  value=203>203-ªD¼d</option>\\n<option  value=204>204-¥[¸S</option>\\n<option  value=211>211-¤jªZ</option>\\n<option  value=213>213-ò]·Ë</option>\\n<option  value=215>215-ª÷±[</option>\\n<option  value=217>217-¤Ó³Â¨½</option>\\n<option  value=219>219-ª¾¥»</option>\\n<option  value=220>220-±d¼Ö</option>\\n<option  value=223>223-¤j¼y</option>\\n<option  value=232>232-¤Q¤À</option>\\n<option  value=235>235-¥­·Ë</option>\\n<option  value=248>248-¤ºÆW</option>\\n<option  value=256>256-¨®ÑL</option>\\n<option  value=280>280-·s¯Q¤é</option>\\n<option  value=282>282-«n¬ì</option>\\n<option  value=288>288-·s¥ªÀç</option>\\n\\n\\t\\t\\t</select>\\n\\t\\t</td>\\n\\t\\t<td class=\\\"brown02\\\"><label for=\\\"to_station\\\">¨ì¯¸¥N½X</label>¡G</td>\\n\\t\\t<td>\\n\\t\\t\\t<select name=\\\"to_station\\\" id=\\\"to_station\\\">\\n<option selected value=004>004-¥xªF</option>\\n<option  value=008>008-³À³¥</option>\\n<option  value=009>009-·ç·½</option>\\n<option  value=012>012-Ãö¤s</option>\\n<option  value=015>015-¦À¤W</option>\\n<option  value=018>018-´I¨½</option>\\n<option  value=020>020-ªF¦Ë</option>\\n<option  value=022>022-ªF¨½</option>\\n<option  value=025>025-¥É¨½</option>\\n<option  value=029>029-·çÁJ</option>\\n<option  value=031>031-´I·½</option>\\n<option  value=034>034-¥ú´_</option>\\n<option  value=035>035-¸Uºa</option>\\n<option  value=036>036-»ñªL</option>\\n<option  value=037>037-«n¥­</option>\\n<option  value=040>040-Â×¥Ð</option>\\n<option  value=041>041-¹ØÂ×</option>\\n<option  value=043>043-§Ó¾Ç</option>\\n<option  value=045>045-¦N¦w</option>\\n<option  value=051>051-ªá½¬</option>\\n<option  value=052>052-¥_®H</option>\\n<option  value=054>054-·s«°</option>\\n<option  value=055>055-±R¼w</option>\\n<option  value=056>056-©M¤¯</option>\\n<option  value=057>057-©M¥­</option>\\n<option  value=062>062-«n¿D</option>\\n<option  value=063>063-ªF¿D</option>\\n<option  value=066>066-Ä¬¿D</option>\\n<option  value=067>067-Ä¬¿D·s</option>\\n<option  value=069>069-¥V¤s</option>\\n<option  value=070>070-Ã¹ªF</option>\\n<option  value=072>072-¤Gµ²</option>\\n<option  value=073>073-©yÄõ</option>\\n<option  value=074>074-¥|«°</option>\\n<option  value=075>075-ÁG·Ë</option>\\n<option  value=077>077-ÀY«°</option>\\n<option  value=079>079-Àt¤s</option>\\n<option  value=080>080-¤j·Ë</option>\\n<option  value=081>081-¤j¨½</option>\\n<option  value=083>083-çÄ¶©</option>\\n<option  value=084>084-°^¼d</option>\\n<option  value=085>085-Âù·Ë</option>\\n<option  value=086>086-¨d¤¦</option>\\n<option  value=087>087-¤T¶IÀ­</option>\\n<option  value=088>088-µUÖ»</option>\\n<option  value=089>089-·çªÚ</option>\\n<option  value=090>090-¥|¸}«F</option>\\n<option  value=092>092-°ò¶©</option>\\n<option  value=093>093-¤K°ô</option>\\n<option  value=094>094-¤C°ô</option>\\n<option  value=096>096-¦Á¤î</option>\\n<option  value=097>097-«n´ä</option>\\n<option  value=098>098-ªQ¤s</option>\\n<option  value=100>100-¥x¥_</option>\\n<option  value=101>101-¸UµØ</option>\\n<option  value=102>102-ªO¾ô</option>\\n<option  value=103>103-¾ðªL</option>\\n<option  value=104>104-¤s¨Î</option>\\n<option  value=105>105-Åaºq</option>\\n<option  value=106>106-®ç¶é</option>\\n<option  value=107>107-¤ºÃc</option>\\n<option  value=108>108-¤¤Ãc</option>\\n<option  value=109>109-®H¤ß</option>\\n<option  value=110>110-·¨±ö</option>\\n<option  value=111>111-´I©£</option>\\n<option  value=112>112-´ò¤f</option>\\n<option  value=113>113-·sÂ×</option>\\n<option  value=114>114-¦Ë¥_</option>\\n<option  value=115>115-·s¦Ë</option>\\n<option  value=118>118-¦Ë«n</option>\\n<option  value=119>119-½Í¤å</option>\\n<option  value=120>120-¤j¤s</option>\\n<option  value=121>121-«áÀs</option>\\n<option  value=123>123-¥Õ¨F¤Ù</option>\\n<option  value=124>124-·s®H</option>\\n<option  value=125>125-³q¾]</option>\\n<option  value=126>126-­b¸Ì</option>\\n<option  value=127>127-¤é«n</option>\\n<option  value=128>128-¤j¥Ò</option>\\n<option  value=129>129-¥x¤¤´ä</option>\\n<option  value=130>130-²M¤ô</option>\\n<option  value=131>131-¨F³À</option>\\n<option  value=132>132-Às¤«</option>\\n<option  value=133>133-¤j¨{</option>\\n<option  value=134>134-°l¤À</option>\\n<option  value=135>135-³y¾ô</option>\\n<option  value=137>137-­]®ß</option>\\n<option  value=139>139-»ÉÆr</option>\\n<option  value=140>140-¤T¸q</option>\\n<option  value=142>142-®õ¦w</option>\\n<option  value=143>143-¦Z¨½</option>\\n<option  value=144>144-Â×­ì</option>\\n<option  value=145>145-¼æ¤l</option>\\n<option  value=146>146-¥x¤¤</option>\\n<option  value=147>147-¯Q¤é</option>\\n<option  value=148>148-¦¨¥\\\\</option>\\n<option  value=149>149-¹ü¤Æ</option>\\n<option  value=150>150-ªá¾Â</option>\\n<option  value=151>151-­ûªL</option>\\n<option  value=153>153-ªÀÀY</option>\\n<option  value=154>154-¥Ð¤¤</option>\\n<option  value=155>155-¤G¤ô</option>\\n<option  value=156>156-ªL¤º</option>\\n<option  value=158>158-¤æ¤»</option>\\n<option  value=159>159-¤æ«n</option>\\n<option  value=161>161-¤jªL</option>\\n<option  value=162>162-¥Á¶¯</option>\\n<option  value=163>163-¹Å¸q</option>\\n<option  value=164>164-¤ô¤W</option>\\n<option  value=166>166-«á¾À</option>\\n<option  value=167>167-·sÀç</option>\\n<option  value=169>169-ªL»ñÀç</option>\\n<option  value=170>170-¶©¥Ð</option>\\n<option  value=171>171-©ÞªL</option>\\n<option  value=172>172-µ½¤Æ</option>\\n<option  value=173>173-·s¥«</option>\\n<option  value=174>174-¥Ã±d</option>\\n<option  value=175>175-¥x«n</option>\\n<option  value=176>176-«O¦w</option>\\n<option  value=177>177-¤¤¬w</option>\\n<option  value=178>178-¤j´ò</option>\\n<option  value=179>179-¸ô¦Ë</option>\\n<option  value=180>180-©£¤s</option>\\n<option  value=181>181-¾ôÀY</option>\\n<option  value=183>183-·£±ê</option>\\n<option  value=184>184-¥ªÀç</option>\\n<option  value=185>185-°ª¶¯</option>\\n<option  value=186>186-»ñ¤s</option>\\n<option  value=187>187-«áÉÜ</option>\\n<option  value=188>188-¤E¦±°ó</option>\\n<option  value=190>190-«ÌªF</option>\\n<option  value=193>193-¦è¶Õ</option>\\n<option  value=194>194-¦Ë¥Ð</option>\\n<option  value=195>195-¼é¦{</option>\\n<option  value=197>197-«n¦{</option>\\n<option  value=199>199-ªLÃä</option>\\n<option  value=200>200-¨Î¥V</option>\\n<option  value=203>203-ªD¼d</option>\\n<option  value=204>204-¥[¸S</option>\\n<option  value=211>211-¤jªZ</option>\\n<option  value=213>213-ò]·Ë</option>\\n<option  value=215>215-ª÷±[</option>\\n<option  value=217>217-¤Ó³Â¨½</option>\\n<option  value=219>219-ª¾¥»</option>\\n<option  value=220>220-±d¼Ö</option>\\n<option  value=223>223-¤j¼y</option>\\n<option  value=232>232-¤Q¤À</option>\\n<option  value=235>235-¥­·Ë</option>\\n<option  value=248>248-¤ºÆW</option>\\n<option  value=256>256-¨®ÑL</option>\\n<option  value=280>280-·s¯Q¤é</option>\\n<option  value=282>282-«n¬ì</option>\\n<option  value=288>288-·s¥ªÀç</option>\\n\\n\\t\\t\\t</select>\\n\\t\\t</td>\\n\\t</tr>\\n\\t<tr>\\n\\t\\t<td class=\\\"green01\\\"><label for=\\\"getin_date\\\">­¼¨®¤é´Á</label>¡G</td>\\n\\t\\t<td>\\n\\t\\t\\t<select name=\\\"getin_date\\\" id=\\\"getin_date\\\">\\n<option selected value=2015/07/03-00>2015/07/03¡i¤­¡j</option>\\n<option  value=2015/07/04-01>2015/07/04¡i¤»¡j</option>\\n<option  value=2015/07/05-02>2015/07/05¡i¤é¡j</option>\\n<option  value=2015/07/06-03>2015/07/06¡i¤@¡j</option>\\n<option  value=2015/07/07-04>2015/07/07¡i¤G¡j</option>\\n<option  value=2015/07/08-05>2015/07/08¡i¤T¡j</option>\\n<option  value=2015/07/09-06>2015/07/09¡i¥|¡j</option>\\n<option  value=2015/07/10-07>2015/07/10¡i¤­¡j</option>\\n<option  value=2015/07/11-08>2015/07/11¡i¤»¡j</option>\\n<option  value=2015/07/12-09>2015/07/12¡i¤é¡j</option>\\n<option  value=2015/07/13-10>2015/07/13¡i¤@¡j</option>\\n<option  value=2015/07/14-11>2015/07/14¡i¤G¡j</option>\\n<option  value=2015/07/15-12>2015/07/15¡i¤T¡j</option>\\n<option  value=2015/07/16-13>2015/07/16¡i¥|¡j</option>\\n<option  value=2015/07/17-14>2015/07/17¡i¤­¡j</option>\\n<option  value=2015/07/18-15>2015/07/18¡i¤»¡j</option>\\n<option  value=2015/07/19-16>2015/07/19¡i¤é¡j</option>\\n\\n\\t\\t\\t</select>\\n\\t\\t</td>\\n\\t\\t<td class=\\\"green01\\\"><label for=\\\"train_type\\\">¨®ºØ</label>¡G</td>\\n\\t\\t<td>\\n\\t\\t\\t<select name=\\\"train_type\\\" id=\\\"train_type\\\">\\n\\t\\t\\t\\t<option selected value=*1>*1-¦Û±j¸¹ </option>\\n\\t\\t\\t\\t<option value=*2>*2-²÷¥ú¸¹ </option>\\n\\t\\t\\t\\t<option value=*3>*3-´_¿³¸¹</option>\\n\\t\\t\\t\\t<option value=*4>*4-¥þ³¡¨®ºØ</option>\\n\\t\\t\\t</select>\\n\\t\\t</td>\\n\\t</tr>\\n\\t<tr>\\n\\t\\t<td class=\\\"green01\\\"><label for=\\\"getin_start_dtime\\\">°_©l®É¶¡</label>¡G</td>\\n\\t\\t<td>\\n\\t\\t\\t<select name=\\\"getin_start_dtime\\\" id=\\\"getin_start_dtime\\\">\\n\\t\\t\\t\\t<option>00:00 </option>\\n\\t\\t\\t\\t<option>01:00 </option>\\n\\t\\t\\t\\t<option>02:00 </option>\\n\\t\\t\\t\\t<option>03:00 </option>\\n\\t\\t\\t\\t<option>04:00 </option>\\n\\t\\t\\t\\t<option>05:00 </option>\\n\\t\\t\\t\\t<option>06:00 </option>\\n\\t\\t\\t\\t<option>07:00 </option>\\n\\t\\t\\t\\t<option>08:00 </option>\\n\\t\\t\\t\\t<option selected>09:00 </option>\\n\\t\\t\\t\\t<option>10:00 </option>\\n\\t\\t\\t\\t<option>11:00 </option>\\n\\t\\t\\t\\t<option>12:00 </option>\\n\\t\\t\\t\\t<option>13:00 </option>\\n\\t\\t\\t\\t<option>14:00 </option>\\n\\t\\t\\t\\t<option>15:00 </option>\\n\\t\\t\\t\\t<option>16:00 </option>\\n\\t\\t\\t\\t<option>17:00 </option>\\n\\t\\t\\t\\t<option>18:00 </option>\\n\\t\\t\\t\\t<option>19:00 </option>\\n\\t\\t\\t\\t<option>20:00 </option>\\n\\t\\t\\t\\t<option>21:00 </option>\\n\\t\\t\\t\\t<option>22:00 </option>\\n\\t\\t\\t\\t<option>23:00</option>\\n\\t\\t\\t</select>\\n\\t\\t</td>\\n\\t\\t<td class=\\\"green01\\\"><label for=\\\"order_qty_str\\\">­q²¼±i¼Æ</label>¡G</td>\\n\\t\\t<td>\\n\\t\\t\\t<select name=\\\"order_qty_str\\\" id=\\\"order_qty_str\\\">\\n\\t\\t\\t\\t<option selected>1</option>\\n\\t\\t\\t\\t<option>2</option>\\n\\t\\t\\t\\t<option>3</option>\\n\\t\\t\\t\\t<option>4</option>\\n\\t\\t\\t\\t<option>5</option>\\n\\t\\t\\t\\t<option>6</option>\\n\\t\\t\\t</select>\\n\\t\\t</td>\\n\\t</tr>\\n\\t<tr>\\n\\t\\t<td class=\\\"green01\\\"><label for=\\\"getin_end_dtime\\\">ºI¤î®É¶¡</label>¡G</td>\\n\\t\\t<td>\\n\\t\\t\\t<select name=\\\"getin_end_dtime\\\" id=\\\"getin_end_dtime\\\">\\n\\t\\t\\t\\t<option>00:00 </option>\\n\\t\\t\\t\\t<option>01:00 </option>\\n\\t\\t\\t\\t<option>02:00 </option>\\n\\t\\t\\t\\t<option>03:00 </option>\\n\\t\\t\\t\\t<option>04:00 </option>\\n\\t\\t\\t\\t<option>05:00 </option>\\n\\t\\t\\t\\t<option>06:00 </option>\\n\\t\\t\\t\\t<option>07:00 </option>\\n\\t\\t\\t\\t<option>08:00 </option>\\n\\t\\t\\t\\t<option>09:00 </option>\\n\\t\\t\\t\\t<option>10:00 </option>\\n\\t\\t\\t\\t<option>11:00 </option>\\n\\t\\t\\t\\t<option>12:00 </option>\\n\\t\\t\\t\\t<option>13:00 </option>\\n\\t\\t\\t\\t<option>14:00 </option>\\n\\t\\t\\t\\t<option>15:00 </option>\\n\\t\\t\\t\\t<option>16:00 </option>\\n\\t\\t\\t\\t<option selected>17:00 </option>\\n\\t\\t\\t\\t<option>18:00 </option>\\n\\t\\t\\t\\t<option>19:00 </option>\\n\\t\\t\\t\\t<option>20:00 </option>\\n\\t\\t\\t\\t<option>21:00 </option>\\n\\t\\t\\t\\t<option>22:00 </option>\\n\\t\\t\\t\\t<option>23:00 </option>\\n\\t\\t\\t\\t<option>23:59</option>\\n\\t\\t\\t</select>\\n\\t\\t</td>\\n\\t</tr>\\n\\t<tr>\\n\\t\\t<td colspan=\\\"4\\\">\\n\\t\\t\\t<p class=\\\"orange02\\\">\\n\\t\\t\\t\\t<strong>\\n\\t\\t\\t\\t\\t´£¿ô±z¡G\\n\\t\\t\\t\\t\\t<ol class=\\\"orange02\\\" style=\\\"margin-top:2px;\\\">\\n\\t\\t\\t\\t\\t\\t<li>¬°Á×§K¼vÅT­q²¼§@·~®Ä¯à¡A¥»¨t²Î¬d¸ß®É¬q¤W­­³]©w¬° 8 ¤p®É¤º¡C</li>\\n\\t\\t\\t\\t\\t\\t<li>³Ñ¾l¨®²¼¬d¸ß§@·~³B²z®É¶¡¥i¯à¸ûªø¡A½Ð­@¤ßµ¥­Ô¡C</li>\\n\\t\\t\\t\\t\\t</ol>\\n\\t\\t\\t\\t</strong>\\n\\t\\t\\t</p>\\n\\t\\t</td>\\n\\t</tr>\\n\\t<tr>\\n\\t\\t<td>&nbsp;</td>\\n\\t\\t<td>\\n\\t\\t\\t<input name=\\\"returnTicket\\\" type=\\\"hidden\\\" value=\\\"0\\\">\\n\\t\\t\\t<button type=\\\"submit\\\" style=\\\"border:0;background:white;width:100px;\\\">\\n\\t\\t\\t\\t<img src=\\\"./Images/cheak_a.jpg\\\" alt=\\\"¶}©l­q²¼\\\" onmouseover=\\\"this.src='./Images/cheak_b.jpg'\\\" onmouseout=\\\"this.src='./Images/cheak_a.jpg'\\\" onfocus=\\\"this.src='./Images/cheak_b.jpg'\\\" onblur=\\\"this.src='./Images/cheak_a.jpg'\\\">\\n\\t\\t\\t</button>\\n\\t\\t</td>\\n\\t</tr>\\n</table>\\n</form>\\n</body>\\n</html>\\n\""
      ]
     },
     "execution_count": 37,
     "metadata": {},
     "output_type": "execute_result"
    }
   ],
   "source": [
    "taiTrain"
   ]
  },
  {
   "cell_type": "code",
   "execution_count": 32,
   "metadata": {
    "collapsed": false
   },
   "outputs": [],
   "source": [
    "taiTrain_doc = htmlParse(taiTrain)"
   ]
  },
  {
   "cell_type": "code",
   "execution_count": 33,
   "metadata": {
    "collapsed": false
   },
   "outputs": [
    {
     "data": {
      "text/plain": [
       "<!DOCTYPE html PUBLIC \"-//W3C//DTD HTML 4.01 Transitional//EN\" \"http://www.w3.org/TR/html4/loose.dtd\">\n",
       "<html><head><title>竅d繡</title></head></html>\n",
       " "
      ]
     },
     "execution_count": 33,
     "metadata": {},
     "output_type": "execute_result"
    }
   ],
   "source": [
    "taiTrain_doc"
   ]
  },
  {
   "cell_type": "code",
   "execution_count": null,
   "metadata": {
    "collapsed": true
   },
   "outputs": [],
   "source": []
  }
 ],
 "metadata": {
  "kernelspec": {
   "display_name": "R",
   "language": "",
   "name": "ir"
  },
  "language_info": {
   "codemirror_mode": "r",
   "file_extension": ".r",
   "mimetype": "text/x-r-source",
   "name": "R",
   "pygments_lexer": "r"
  }
 },
 "nbformat": 4,
 "nbformat_minor": 0
}
