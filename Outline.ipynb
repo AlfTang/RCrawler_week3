{
 "cells": [
  {
   "cell_type": "markdown",
   "metadata": {
    "slideshow": {
     "slide_type": "slide"
    }
   },
   "source": [
    "# RCrawler101 WEEK 3\n",
    "* C.Y. Yen\n",
    "* Aug. 1, 2015"
   ]
  },
  {
   "cell_type": "markdown",
   "metadata": {
    "slideshow": {
     "slide_type": "slide"
    }
   },
   "source": [
    "## Agenda\n",
    "\n",
    "\n",
    "* ### 五分鐘 R Crawler 復健XD\n",
    "\n",
    "* ### 知己知彼爬蟲攻防戰：特殊連線技巧 \n",
    "    1. User-Agent : 換張身份證吧 \n",
    "    2.  Referer: 籍貫正確\n",
    "    3. Cookie：請隨身攜帶門禁卡\n",
    "\n",
    "* ### 實用技巧閒嗑牙\n",
    "    1. 下載檔案 (例如去如期交所，OTC抓取 *.csv 或 *.zip 檔) <5+5>"
   ]
  },
  {
   "cell_type": "markdown",
   "metadata": {
    "slideshow": {
     "slide_type": "slide"
    }
   },
   "source": [
    "###1. 五分鐘 R 爬蟲復健XD\n",
    "* 心法\n",
    "    * 爬蟲主要由兩個部份組成：Connector & Parser\n",
    "    * Connector: 模擬 HTTP 協議像指定網站發送 request\n",
    "    * Parser: 從 response 中抽取具有價值的資訊\n",
    "* 招式\n",
    "    * Connector :  判斷屬於 GET/POST 哪一種方法，帶參數敲網址\n",
    "    * Parser :  XPath Selector /CSS Selector "
   ]
  },
  {
   "cell_type": "markdown",
   "metadata": {
    "slideshow": {
     "slide_type": "subslide"
    }
   },
   "source": [
    "*  ### 好用小工具回憶\n",
    "    * Chrome developer tool （Ctrl + Shift + I）\n",
    "        * Element\n",
    "        * Network\n",
    "    * Xpath Helper"
   ]
  },
  {
   "cell_type": "markdown",
   "metadata": {
    "slideshow": {
     "slide_type": "subslide"
    }
   },
   "source": [
    "#### 新手村打怪： <a href='https://www.ptt.cc/bbs/R_Language/index.html'>PTT R-language</a> 抓標題\n",
    "傳送點：  https://github.com/exilespacer/RCrawler_week3/blob/master/Naive.ipynb"
   ]
  },
  {
   "cell_type": "markdown",
   "metadata": {
    "slideshow": {
     "slide_type": "slide"
    }
   },
   "source": [
    "### 我們已經知道如何突破沒有戒心的網站，\n",
    "### 然而，這世界上還有很多巧具機心的網站，\n",
    "### 要破除他們心防，你需要懂更多他們的心機..."
   ]
  },
  {
   "cell_type": "markdown",
   "metadata": {
    "slideshow": {
     "slide_type": "slide"
    }
   },
   "source": [
    "###2. 知己知彼爬蟲攻防戰：特殊連線技巧\n",
    "* 對手的心機索通常都藏在 HTTP header 裡\n",
    "* HTTP 是什麼？ Header 又是什麼？"
   ]
  },
  {
   "cell_type": "markdown",
   "metadata": {
    "slideshow": {
     "slide_type": "slide"
    }
   },
   "source": [
    "####  簡單說說 HTTP ： 寄過信吧？\n",
    "* 郵局檢查信封是否合乎規劃，才將信寄出\n",
    "* HTTP協定檢查 request header 是否符合某些規範，再將資料傳給 client\n",
    "<img src='fig/HTTP.png' height=430>"
   ]
  },
  {
   "cell_type": "markdown",
   "metadata": {
    "slideshow": {
     "slide_type": "subslide"
    }
   },
   "source": [
    "<img src='fig/header.png' height=430>"
   ]
  },
  {
   "cell_type": "markdown",
   "metadata": {
    "slideshow": {
     "slide_type": "slide"
    }
   },
   "source": [
    "## 也就是說，Server 可以透過檢查 header 裡的資料，來偵測網路爬蟲，並選擇不給予資料 ~\n",
    "## 一般來說，解法就是讓爬蟲儘可能的模仿人類使用瀏覽器~\n",
    "## 接下來，就讓我們來看看 Header 裡常設的幾個阻礙爬蟲的關卡吧！"
   ]
  },
  {
   "cell_type": "markdown",
   "metadata": {
    "slideshow": {
     "slide_type": "slide"
    }
   },
   "source": [
    "####第1關  User-Agent : 換張身份證吧\n",
    "* 心法\n",
    "    * 顧名思義，User-Agent 標註了你使用的瀏覽器 (Chrome/FireFox/IE)\n",
    "    * Server 據此 reponse 最適合該瀏覽器的內容給你\n",
    "    * 對手出招：擋掉不合格的 UA，因為爬蟲的 UA 通常預設為[我是爬蟲]\n",
    "<br><br>\n",
    "* 招式： 將 Request headers 上的 UA 改成正常的瀏覽器名稱"
   ]
  },
  {
   "cell_type": "markdown",
   "metadata": {
    "slideshow": {
     "slide_type": "subslide"
    }
   },
   "source": [
    "####第1關 User-agent 打怪：<a href=\"http://buy.yungching.com.tw/region\">永慶房屋</a> \n",
    "傳送點：\n",
    "https://github.com/exilespacer/RCrawler_week3/blob/master/user-agent.ipynb"
   ]
  },
  {
   "cell_type": "markdown",
   "metadata": {
    "slideshow": {
     "slide_type": "slide"
    }
   },
   "source": [
    "#### 第2關 Cookie：請隨身攜帶門禁卡\n",
    "* 心法\n",
    "    * 顧名思義，Cookie 是 .... ???\n",
    "    * 先正經一點來介紹，Cookie是 server 在 client 瀏覽器設的變數\n",
    "    * 主要是為了減緩 HTTP 設計中「無狀態」的缺陷\n",
    "    * 舉個生活化的例子，喝過五十嵐吧？\n",
    "        * session: 店員留存的飲料單\n",
    "        * cookie: 客人手上拿的點餐單，上面有 session id\n",
    "        * 領飲料的時候，客人必須出示點餐單，秀出 session_id，店員會根據 session id 拿給你對應的飲料\n",
    "    * 是否點過十八禁確認頁面？輸入帳密登入過沒有？\n",
    "    * 對方出招：擋掉無法出示合格 cookie 的 request\n",
    "* 我方招式： 將 Request header 中的 cookie 設為目前可使用的 Cookie "
   ]
  },
  {
   "cell_type": "markdown",
   "metadata": {
    "slideshow": {
     "slide_type": "subslide"
    }
   },
   "source": [
    "#### 第2關 Cookie 打怪：<a href=\"http://www.pixiv.net/\">Pixiv </a> 登入\n",
    "* 傳送點： https://github.com/exilespacer/RCrawler_week3/blob/master/Cookie.ipynb"
   ]
  },
  {
   "cell_type": "markdown",
   "metadata": {
    "slideshow": {
     "slide_type": "slide"
    }
   },
   "source": [
    "####第3關 Referer： 籍貫正確\n",
    "* 心法\n",
    "    * 顧名思義，Referer 會標註你從哪裡來，也就是你上一個造訪的網站\n",
    "    * 方便統計流量來源，對搜尋引擎優化很重要\n",
    "    * 冷知識：拼錯了? <a href='https://en.wikipedia.org/wiki/HTTP_referer'>Referer / Referrer</a>\n",
    "    * 對手出招：擋掉不合格的 Referer，只回應那些符合流程的 request\n",
    "<br><br>\n",
    "* 我方招式：觀察網站，將 request header 中的 Referer 換成符合流程的網址"
   ]
  },
  {
   "cell_type": "markdown",
   "metadata": {
    "slideshow": {
     "slide_type": "subslide"
    }
   },
   "source": [
    "#### 第3關 Referer 打怪：<a href=\"http://www.pixiv.net/\">Pixiv </a> 抓大圖\n",
    "* 傳送點：https://github.com/exilespacer/RCrawler_week3/blob/master/Referer.ipynb"
   ]
  },
  {
   "cell_type": "markdown",
   "metadata": {
    "slideshow": {
     "slide_type": "slide"
    }
   },
   "source": [
    "#### 下回預告 ： 連線技巧進階篇\n",
    "\n",
    "* 需要驗證碼/ Captcha\n",
    "* 需要 token\n",
    "* 連線次數阻擋\n"
   ]
  },
  {
   "cell_type": "markdown",
   "metadata": {
    "slideshow": {
     "slide_type": "slide"
    }
   },
   "source": [
    "###2. 實用技巧閒嗑牙\n",
    "* 下載檔案\n"
   ]
  },
  {
   "cell_type": "markdown",
   "metadata": {
    "slideshow": {
     "slide_type": "subslide"
    }
   },
   "source": [
    "#### 下載檔案範例\n",
    "[CODE HERE]"
   ]
  },
  {
   "cell_type": "markdown",
   "metadata": {
    "collapsed": true,
    "slideshow": {
     "slide_type": "slide"
    }
   },
   "source": [
    "# Thank you for your attention :)"
   ]
  },
  {
   "cell_type": "code",
   "execution_count": null,
   "metadata": {
    "collapsed": true,
    "slideshow": {
     "slide_type": "slide"
    }
   },
   "outputs": [],
   "source": []
  }
 ],
 "metadata": {
  "celltoolbar": "Slideshow",
  "kernelspec": {
   "display_name": "R",
   "language": "R",
   "name": "ir"
  },
  "language_info": {
   "codemirror_mode": "r",
   "file_extension": ".r",
   "mimetype": "text/x-r-source",
   "name": "R",
   "pygments_lexer": "r",
   "version": "3.1.2"
  }
 },
 "nbformat": 4,
 "nbformat_minor": 0
}
