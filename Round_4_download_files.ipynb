{
 "cells": [
  {
   "cell_type": "markdown",
   "metadata": {
    "slideshow": {
     "slide_type": "slide"
    }
   },
   "source": [
    "## 收操小關卡 1 ：TWSE 各類指數成交量值 csv 下載\n",
    "<a href='http://www.twse.com.tw/ch/trading/exchange/BFIAMU/genpage/Report201507/20150730_F3_1_5.php'><img src='fig/twse_csv_download.png' height=430></a>"
   ]
  },
  {
   "cell_type": "markdown",
   "metadata": {
    "slideshow": {
     "slide_type": "slide"
    }
   },
   "source": [
    "## 觀察一下對手\n",
    "URL： http://www.twse.com.tw/ch/trading/exchange/BFIAMU/BFIAMU2.php?input_date=104/07/30&type=csv\n",
    "<img src='fig/csv_path.png' height=430>"
   ]
  },
  {
   "cell_type": "code",
   "execution_count": 25,
   "metadata": {
    "collapsed": true
   },
   "outputs": [],
   "source": [
    "download.file(\"http://www.twse.com.tw/ch/trading/exchange/BFIAMU/BFIAMU2.php?input_date=104/07/29&type=csv\", destfile = \"data/twse.csv\")"
   ]
  },
  {
   "cell_type": "markdown",
   "metadata": {
    "slideshow": {
     "slide_type": "slide"
    }
   },
   "source": [
    "## 收操小關卡 2 ：TWSE 期貨歷史資料 zip 下載\n",
    "<a href=\"http://www.taifex.com.tw/eng/eng3/eng3_2.asp\"><img src='fig/get_zip.png' height=430></a>"
   ]
  },
  {
   "cell_type": "code",
   "execution_count": null,
   "metadata": {
    "collapsed": false,
    "slideshow": {
     "slide_type": "slide"
    }
   },
   "outputs": [],
   "source": [
    "download.file(\"http://www.taifex.com.tw/eng/eng3/hisdata_fut/2014_fut.zip\", destfile=\"data/future_history_data.zip\")"
   ]
  },
  {
   "cell_type": "code",
   "execution_count": null,
   "metadata": {
    "collapsed": false
   },
   "outputs": [],
   "source": [
    "unzip(\"data/future_history_data.zip\", exdir=\"data/\")"
   ]
  },
  {
   "cell_type": "markdown",
   "metadata": {},
   "source": [
    "<img src=\"fig/extracted_data.png\" height=430>"
   ]
  },
  {
   "cell_type": "markdown",
   "metadata": {
    "slideshow": {
     "slide_type": "slide"
    }
   },
   "source": [
    "## 恭喜你破解下載資料的關卡XD"
   ]
  },
  {
   "cell_type": "code",
   "execution_count": null,
   "metadata": {
    "collapsed": true,
    "slideshow": {
     "slide_type": "slide"
    }
   },
   "outputs": [],
   "source": []
  }
 ],
 "metadata": {
  "celltoolbar": "Slideshow",
  "kernelspec": {
   "display_name": "R",
   "language": "R",
   "name": "ir"
  },
  "language_info": {
   "codemirror_mode": "r",
   "file_extension": ".r",
   "mimetype": "text/x-r-source",
   "name": "R",
   "pygments_lexer": "r",
   "version": "3.1.2"
  }
 },
 "nbformat": 4,
 "nbformat_minor": 0
}
