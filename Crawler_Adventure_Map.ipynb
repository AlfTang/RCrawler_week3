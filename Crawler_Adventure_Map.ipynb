{
 "cells": [
  {
   "cell_type": "markdown",
   "metadata": {
    "slideshow": {
     "slide_type": "slide"
    }
   },
   "source": [
    "## WEEK 3\n",
    "# RCrawler 的冒險日誌：Connector 篇\n",
    "* C.Y. Yen\n",
    "* Aug. 1, 2015"
   ]
  },
  {
   "cell_type": "markdown",
   "metadata": {
    "slideshow": {
     "slide_type": "slide"
    }
   },
   "source": [
    "## 關於教材授權\n",
    "本教材之智慧財產權,\n",
    "屬木刻思股份有限公司所有!\n",
    "如果有朋友,覺得此教材很棒,希望能分享\n",
    "給朋友,或是拿此教材開課。非常歡迎大家\n",
    "來信至 course@agilearning.io 請求教材的使用\n",
    "授權唷!"
   ]
  },
  {
   "cell_type": "markdown",
   "metadata": {
    "slideshow": {
     "slide_type": "slide"
    }
   },
   "source": [
    "## 課程資訊\n",
    "• <a href=\"http://data-sci.info/r-crawler-101/\">網站</a> /  <a href=\"http://data-sci.info/forums/\">論壇</a> /  <a href=\"https://www.facebook.com/datasci.info\">粉絲頁</a> /  <a href=\"https://docs.google.com/document/d/1KnEbBH7QZPySNolSCd3O1Y-jx8lByFbaFguRSis30rI/edit\">廣播</a> /  <a href=\"https://hackpad.com/R-Crawler-101-20150718-w1-GXFs2bNeXLJ\">共筆</a>"
   ]
  },
  {
   "cell_type": "markdown",
   "metadata": {
    "slideshow": {
     "slide_type": "slide"
    }
   },
   "source": [
    "## 課程廣播\n",
    "https://goo.gl/A5Rvtx"
   ]
  },
  {
   "cell_type": "markdown",
   "metadata": {
    "slideshow": {
     "slide_type": "slide"
    }
   },
   "source": [
    "##同學共筆\n",
    "https://goo.gl/R7rqrg"
   ]
  },
  {
   "cell_type": "markdown",
   "metadata": {
    "slideshow": {
     "slide_type": "slide"
    }
   },
   "source": [
    "## Agenda\n",
    "\n",
    "\n",
    "* 五分鐘 R Crawler 復健XD\n",
    "\n",
    "* 知己知彼爬蟲攻防戰：特殊連線技巧 \n",
    "    1. User-Agent : 換張身份證吧 \n",
    "    2.  Referer: 籍貫正確\n",
    "    3. Cookie：請隨身攜帶門禁卡\n",
    "\n",
    "* 實用技巧閒嗑牙\n",
    "    1. 下載檔案"
   ]
  },
  {
   "cell_type": "markdown",
   "metadata": {
    "slideshow": {
     "slide_type": "slide"
    }
   },
   "source": [
    "###1. 五分鐘 R 爬蟲復健XD\n",
    "* 心法\n",
    " <img src='fig/crawler.png' height=430>"
   ]
  },
  {
   "cell_type": "markdown",
   "metadata": {
    "slideshow": {
     "slide_type": "slide"
    }
   },
   "source": [
    "###1. 五分鐘 R 爬蟲復健XD\n",
    "* 招式\n",
    "    * Connector :  判斷屬於 GET、POST 哪一種方法，帶參數敲網址/ <b>需不需要準備特殊的 header</b>\n",
    "    * Parser :  XPath Selector /CSS Selector / <b>Regular Expression</b>"
   ]
  },
  {
   "cell_type": "markdown",
   "metadata": {
    "slideshow": {
     "slide_type": "subslide"
    }
   },
   "source": [
    "* 常用 R 指令\n",
    "    * httr::GET() / httr::POST\n",
    "    * XML::htmlParse()\n",
    "* 好用小工具回憶\n",
    "    * Chrome developer tool （F12）\n",
    "        * Element\n",
    "        * Network\n",
    "    * <a href=\"https://chrome.google.com/webstore/detail/xpath-helper/hgimnogjllphhhkhlmebbmlgjoejdpjl?hl=zh-TW\">Xpath Helper</a>"
   ]
  },
  {
   "cell_type": "markdown",
   "metadata": {
    "slideshow": {
     "slide_type": "subslide"
    }
   },
   "source": [
    "#### 五分鐘新手村打怪： <a href='https://www.ptt.cc/bbs/R_Language/index.html'>PTT R-language</a> 抓標題\n",
    "<a href='https://www.ptt.cc/bbs/R_Language/index.html'><img src=\"fig/Ptt_rlanguage.png\" height=300></a>\n",
    "傳送點： http://nbviewer.ipython.org/github/exilespacer/RCrawler_week3/blob/master/Round_0_simple_crawler.ipynb"
   ]
  },
  {
   "cell_type": "markdown",
   "metadata": {
    "slideshow": {
     "slide_type": "slide"
    }
   },
   "source": [
    "### 只需對網站有些初步的了解，我們可以突破那些沒有戒心的網站"
   ]
  },
  {
   "cell_type": "markdown",
   "metadata": {
    "slideshow": {
     "slide_type": "slide"
    }
   },
   "source": [
    "### 然而，當網站同時也對爬蟲有些了解時，他們會設計一些多巧具機心的關卡，阻擋爬蟲"
   ]
  },
  {
   "cell_type": "markdown",
   "metadata": {
    "slideshow": {
     "slide_type": "slide"
    }
   },
   "source": [
    "### 要破除他們心防，你需要懂更多他們的心機..."
   ]
  },
  {
   "cell_type": "markdown",
   "metadata": {
    "slideshow": {
     "slide_type": "slide"
    }
   },
   "source": [
    "###2. 知己知彼爬蟲攻防戰：特殊連線技巧\n",
    "* 對手的心機通常都藏在 HTTP header 裡\n",
    "* HTTP 是什麼？ Header 又是什麼？"
   ]
  },
  {
   "cell_type": "markdown",
   "metadata": {
    "slideshow": {
     "slide_type": "slide"
    }
   },
   "source": [
    "####  簡單說說 HTTP ： 寄過信吧？\n",
    "* 郵局檢查信封是否合乎規劃，才將信寄出\n",
    "* HTTP協定檢查 request header 是否符合某些規範，再將資料傳給 client\n",
    "<img src='fig/HTTP.png' height=560>"
   ]
  },
  {
   "cell_type": "markdown",
   "metadata": {
    "slideshow": {
     "slide_type": "subslide"
    }
   },
   "source": [
    "<a href='https://www.ptt.cc/bbs/R_Language/index.html'><img src='fig/header.png' height=430></a>"
   ]
  },
  {
   "cell_type": "markdown",
   "metadata": {
    "slideshow": {
     "slide_type": "slide"
    }
   },
   "source": [
    "## 也就是說，server 可以透過檢查 header 裡的資料，來偵測網路爬蟲。"
   ]
  },
  {
   "cell_type": "markdown",
   "metadata": {
    "slideshow": {
     "slide_type": "slide"
    }
   },
   "source": [
    "## 如何避開這些阻礙？其實就是讓爬蟲儘可能的模仿人類使用瀏覽器的行為。\n"
   ]
  },
  {
   "cell_type": "markdown",
   "metadata": {
    "slideshow": {
     "slide_type": "slide"
    }
   },
   "source": [
    "## 通常 server 會檢查什麼東西呢?"
   ]
  },
  {
   "cell_type": "markdown",
   "metadata": {
    "slideshow": {
     "slide_type": "slide"
    }
   },
   "source": [
    "## 接下來，就讓我們來看看 Header 裡常設的幾個阻礙爬蟲的關卡吧！"
   ]
  },
  {
   "cell_type": "markdown",
   "metadata": {
    "slideshow": {
     "slide_type": "slide"
    }
   },
   "source": [
    "####第1關  User-Agent : 換張身份證吧\n",
    "* 心法\n",
    "    * 顧名思義，User-Agent 標註了你使用的瀏覽器 (Chrome/FireFox/IE)\n",
    "    * Server 據此 reponse 最適合該瀏覽器的內容給你\n",
    "    * 對手出招：擋掉不合格的 User-Agent，因為爬蟲的 User-Agent 通常預設為[我是爬蟲]\n",
    "<br><br>\n",
    "* 招式： 將 Request headers 上的 User-Agent 改成正常的瀏覽器名稱"
   ]
  },
  {
   "cell_type": "markdown",
   "metadata": {
    "slideshow": {
     "slide_type": "subslide"
    }
   },
   "source": [
    "####第1關 User-agent 打怪：<a href=\"http://buy.yungching.com.tw/region\">永慶房屋</a> \n",
    "傳送點：http://nbviewer.ipython.org/github/exilespacer/RCrawler_week3/blob/master/Round_1_request_with_user_agent.ipynb"
   ]
  },
  {
   "cell_type": "markdown",
   "metadata": {
    "slideshow": {
     "slide_type": "slide"
    }
   },
   "source": [
    "#### 第2關 Cookie：請隨身攜帶門禁卡\n",
    "* 心法\n",
    "    * 顧名思義，Cookie 是 .... ???\n",
    "    * 先正經一點來介紹，Cookie是 server 在 client 瀏覽器設的變數，主要是為了補足HTTP 「無狀態」的設計\n",
    "    * 舉個生活化的例子，喝過五十嵐吧？\n",
    "        * 點完珍奶結完帳，店員會印出一張留存單 (session) 給後端工讀生製作\n",
    "        * 同時會給客人一張點餐單（cookies），上面有號碼 ( session id ) \n",
    "        * 客人要求拿飲料的時候 (發Request)，客人必須出示點餐單  (帶著 Cookie)，秀出號碼 (session_id)\n",
    "        * 店員會根據號碼，找到對應飲料 (seesion)，並且拿給你 (給 Response)\n",
    "    * 對方出招：擋掉無法出示合格 cookie 的 request\n",
    "* 我方招式： 將 Request header 中的 cookie 設為目前可使用的 Cookie "
   ]
  },
  {
   "cell_type": "markdown",
   "metadata": {
    "slideshow": {
     "slide_type": "subslide"
    }
   },
   "source": [
    "#### 第2關 Cookie 打怪：<a href=\"http://www.pixiv.net/\">Pixiv </a> 登入\n",
    "* 傳送點： http://nbviewer.ipython.org/github/exilespacer/RCrawler_week3/blob/master/Round_2_login_with_cookie.ipynb"
   ]
  },
  {
   "cell_type": "markdown",
   "metadata": {
    "slideshow": {
     "slide_type": "slide"
    }
   },
   "source": [
    "####第3關 Referer： 籍貫正確\n",
    "* 心法\n",
    "    * 顧名思義，Referer 會標註你從哪裡來，也就是你上一個造訪的網站\n",
    "    * 方便統計流量來源，對搜尋引擎優化很重要\n",
    "    * 冷知識：拼錯了? <a href='https://en.wikipedia.org/wiki/HTTP_referer'>Referer / Referrer</a>\n",
    "    * 對手出招：擋掉不合格的 Referer，只回應那些符合流程的 request\n",
    "<br><br>\n",
    "* 我方招式：觀察網站，將 request header 中的 Referer 換成符合流程的網址"
   ]
  },
  {
   "cell_type": "markdown",
   "metadata": {
    "slideshow": {
     "slide_type": "subslide"
    }
   },
   "source": [
    "#### 第3關 Referer 打怪：<a href=\"http://www.pixiv.net/\">Pixiv </a> 抓大圖\n",
    "* 傳送點：http://nbviewer.ipython.org/github/exilespacer/RCrawler_week3/blob/master/Round_3_request_with_referer.ipynb"
   ]
  },
  {
   "cell_type": "markdown",
   "metadata": {
    "slideshow": {
     "slide_type": "slide"
    }
   },
   "source": [
    "#### 下回預告 ： 連線技巧進階篇 \n",
    "\n",
    "* 登入和 cross-domain token\n",
    "* 需要驗證碼/ Captcha\n",
    "* 連線次數阻擋\n"
   ]
  },
  {
   "cell_type": "markdown",
   "metadata": {
    "slideshow": {
     "slide_type": "slide"
    }
   },
   "source": [
    "###2. 實用技巧閒嗑牙：下載檔案\n",
    "* 心法\n",
    "    * 找到資料的來源網址\n",
    "* 招式\n",
    "    * download.files()\n"
   ]
  },
  {
   "cell_type": "markdown",
   "metadata": {
    "slideshow": {
     "slide_type": "subslide"
    }
   },
   "source": [
    "#### 收操關卡：csv, zip 擋下載\n",
    " 傳送點： http://nbviewer.ipython.org/github/exilespacer/RCrawler_week3/blob/master/Round_4_download_files.ipynb"
   ]
  },
  {
   "cell_type": "markdown",
   "metadata": {
    "slideshow": {
     "slide_type": "slide"
    }
   },
   "source": [
    "## 對於爬蟲界的 connector 魔王，你已經（幾乎，因為還有第四周XD）可以獨當一面了\n",
    "## 出發打怪吧~"
   ]
  },
  {
   "cell_type": "markdown",
   "metadata": {
    "slideshow": {
     "slide_type": "slide"
    }
   },
   "source": [
    "<a href=\"https://www.coursera.org/\"><img src=\"fig/coursera.png\" height=430></a>"
   ]
  },
  {
   "cell_type": "markdown",
   "metadata": {
    "slideshow": {
     "slide_type": "slide"
    }
   },
   "source": [
    "<a href=\"http://lvr.land.moi.gov.tw/N11/homePage.action\"><img src=\"fig/landmoi.png\" height=430></a>"
   ]
  },
  {
   "cell_type": "markdown",
   "metadata": {
    "collapsed": true,
    "slideshow": {
     "slide_type": "slide"
    }
   },
   "source": [
    "# Thank you for your attention :)"
   ]
  },
  {
   "cell_type": "markdown",
   "metadata": {
    "collapsed": true,
    "slideshow": {
     "slide_type": "slide"
    }
   },
   "source": [
    "<a href=\"http://www.meetup.com/Taiwan-R/events/223632004/\">R-Laides Rocks!!!!!</a>"
   ]
  },
  {
   "cell_type": "code",
   "execution_count": null,
   "metadata": {
    "collapsed": true
   },
   "outputs": [],
   "source": []
  }
 ],
 "metadata": {
  "celltoolbar": "Slideshow",
  "kernelspec": {
   "display_name": "R",
   "language": "R",
   "name": "ir"
  },
  "language_info": {
   "codemirror_mode": "r",
   "file_extension": ".r",
   "mimetype": "text/x-r-source",
   "name": "R",
   "pygments_lexer": "r",
   "version": "3.1.2"
  }
 },
 "nbformat": 4,
 "nbformat_minor": 0
}
