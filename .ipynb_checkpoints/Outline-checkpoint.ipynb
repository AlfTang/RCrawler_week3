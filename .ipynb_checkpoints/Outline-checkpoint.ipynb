{
 "cells": [
  {
   "cell_type": "markdown",
   "metadata": {
    "slideshow": {
     "slide_type": "slide"
    }
   },
   "source": [
    "# WEEK 3\n",
    "* C.Y. Yen\n",
    "* Aug. @ RCrawler101"
   ]
  },
  {
   "cell_type": "markdown",
   "metadata": {
    "slideshow": {
     "slide_type": "slide"
    }
   },
   "source": [
    "## Outline\n",
    "\n",
    "\n",
    "###1. 十分鐘 R 爬蟲復健XD\n",
    "*  Crawler = Connector + Parser\n",
    "\n",
    "###2. 知己知彼爬蟲攻防戰：特殊連線技巧 <50 mins>\n",
    "* 突破連線的線索藏在 head 中~ \n",
    "    * user-agent <5+5>\n",
    "    * referrer <5+5>\n",
    "    * Cookie <5+5>\n",
    "    * o-auth: token - 登入 <5+5>\n",
    "    * HTTPS: SSL <5+5>\n",
    "* 冷知識： <a href='https://www.youtube.com/watch?v=Ylg4sBl1vPc'>robot.txt</a>\n",
    "* 冷知識：<a href='https://www.youtube.com/watch?v=pFXPnN8Taxw'>拜託你來爬我家！ Crawl Error</a>\n",
    "\n",
    "###3. 實用技巧閒嗑牙  <10 mins>\n",
    "* 下載檔案 (例如去如期交所，OTC抓取 *.csv 或 *.zip 檔) <5+5>"
   ]
  },
  {
   "cell_type": "markdown",
   "metadata": {
    "slideshow": {
     "slide_type": "slide"
    }
   },
   "source": [
    "###1. 十分鐘 R 爬蟲復健XD\n",
    "* 心法： Crawler = Connector + Parser\n",
    "* 招式： get"
   ]
  },
  {
   "cell_type": "markdown",
   "metadata": {
    "slideshow": {
     "slide_type": "subslide"
    }
   },
   "source": [
    "#### 心法： Crawler = Connector + Parser\n",
    "* 例圖： connector + parser"
   ]
  },
  {
   "cell_type": "markdown",
   "metadata": {
    "slideshow": {
     "slide_type": "subslide"
    }
   },
   "source": [
    "#### 招式： get\n",
    "* [CODE HERE]: PTT R-language 版 https://www.ptt.cc/bbs/R_Language/index.html"
   ]
  },
  {
   "cell_type": "markdown",
   "metadata": {
    "slideshow": {
     "slide_type": "slide"
    }
   },
   "source": [
    "###2. 特殊連線技巧\n",
    "* 突破連線的線索藏在 head 裡 !"
   ]
  },
  {
   "cell_type": "markdown",
   "metadata": {
    "slideshow": {
     "slide_type": "slide"
    }
   },
   "source": [
    "####  HTML 檔的 head 在幹嘛~\n",
    "* 應該說header只是HTTP 協定（電腦間溝通的黑話）的一個部分。類比就是寄信的信封格式\n",
    "    HTTP類比就是信封格式\n",
    "    網址就是地址，header 就是寫在信封上的資訊\n",
    "    寄出去的信也許會寫，這信是哪裡寄來的，誰寄的\n",
    "    來自server的回信header可能是狀態碼（200還是404呢）\n",
    "* 「頭」的部分是由 <head> 和 </head> 兩個標籤所界定，大部分用於規範和整體網頁相關的資訊，這些資訊通常不會直接呈現於網頁內。\n",
    "* 包含有： user-agent/ referer/ cookie / token  etc.\n",
    "* 如果瀏覽器希望阻擋網路爬蟲，通常會在 Head 裡設一些關卡\n",
    "* [FIG HERE]"
   ]
  },
  {
   "cell_type": "markdown",
   "metadata": {
    "slideshow": {
     "slide_type": "slide"
    }
   },
   "source": [
    "#### User-agent\n",
    "* 心法：User-agent其實要告訴server你是什麼瀏覽器，server會據此給你最適合你瀏覽器的內容\n",
    "但是一般來說，你的瀏覽器不會太直白的說：拎北是郝365\n",
    "你常看到的是類似這樣： \"Mozilla/5.0 (X11; Linux x86_64) AppleWebKit/537.36 (KHTML, like Gecko) Chrome/43.0.2357.81 Safari/537.36\"在下是下列幾種瀏覽器的其中一種，給我支援其中一種的即可，我都能得到很好的瀏覽體驗\n",
    "<br><br>\n",
    "* 對手出招：爬蟲套件上的預設都是[我是爬蟲]\n",
    "<br><br>\n",
    "* 我方招式： User agent 只要改成你瀏覽器上的即可"
   ]
  },
  {
   "cell_type": "markdown",
   "metadata": {
    "slideshow": {
     "slide_type": "subslide"
    }
   },
   "source": [
    "#### User-agent 範例\n",
    "[CODE HERE] 永慶房屋 http://buy.yungching.com.tw/region/%E6%96%B0%E5%8C%97%E5%B8%82-_c/"
   ]
  },
  {
   "cell_type": "markdown",
   "metadata": {
    "slideshow": {
     "slide_type": "slide"
    }
   },
   "source": [
    "#### referer\n",
    "* 心法：Referer是造訪這個網站前，造訪的上一個網站。\n",
    "    維基百科這段話應該還算淺白 In the most common situation this means that when a user clicks a hyperlink in a web browser, the browser sends a request to the server holding the destination webpage. The request includes the referrer field, which indicates the last page the user was on (the one where they clicked the link).\n",
    "    Referer logging is used to allow websites and web servers to identify where people are visiting them from, for promotional or statistical purposes.\n",
    "    referer可以告訴你流量來源，對搜尋引擎優化很重要\n",
    "* 對手出招：referer 換成合適的網址\n",
    "* 我方招式："
   ]
  },
  {
   "cell_type": "markdown",
   "metadata": {
    "slideshow": {
     "slide_type": "subslide"
    }
   },
   "source": [
    "#### referer 範例\n",
    "[CODE HERE] 無限動慢 http://www.comicvip.com/html/6881.html / http://gofire.lofter.com/post/1cbe552c_406bf2a"
   ]
  },
  {
   "cell_type": "markdown",
   "metadata": {
    "slideshow": {
     "slide_type": "slide"
    }
   },
   "source": [
    "#### Cookie\n",
    "* 心法：Cookie是server在瀏覽器上設的變數。[變數]的功能就是要拿來記錄狀態。例如：是否點過十八禁確認頁面？總共狀態有點過的狀態，和沒點過的狀態。原來的http設計是無狀態的，要記錄狀態就是考server的db或client 的cookie。（當然不限於此）\n",
    "    讓我們想想五十嵐\n",
    "* 對方出招：\n",
    "* 我方招式： set cookie"
   ]
  },
  {
   "cell_type": "markdown",
   "metadata": {
    "slideshow": {
     "slide_type": "subslide"
    }
   },
   "source": [
    "#### Cookie 範例\n",
    "[CODE HERE]"
   ]
  },
  {
   "cell_type": "markdown",
   "metadata": {
    "slideshow": {
     "slide_type": "slide"
    }
   },
   "source": [
    "#### HTTPS: SSL\n",
    "* 心法：例圖 http://3.bp.blogspot.com/_rLHv5b5Jcuk/TA50VxyrxUI/AAAAAAAAABc/PPoLA9dQdzI/s1600/SSL.png\n",
    "* 對方出招：\n",
    "* 我方出招：see 家葳 SSL "
   ]
  },
  {
   "cell_type": "markdown",
   "metadata": {
    "slideshow": {
     "slide_type": "slide"
    }
   },
   "source": [
    "#### Token\n",
    "* 心法： o-auth: token - 登入，會過期的 cookie，權限管理\n",
    "* 對方出招：\n",
    "* 我方招式：get token"
   ]
  },
  {
   "cell_type": "markdown",
   "metadata": {
    "slideshow": {
     "slide_type": "subslide"
    }
   },
   "source": [
    "#### Token 範例\n",
    "[ CODE HERE\n",
    "]"
   ]
  },
  {
   "cell_type": "markdown",
   "metadata": {
    "slideshow": {
     "slide_type": "slide"
    }
   },
   "source": [
    "#### 下回預告\n",
    "\n",
    "驗證碼 + token\n",
    "實價登錄"
   ]
  },
  {
   "cell_type": "markdown",
   "metadata": {
    "slideshow": {
     "slide_type": "slide"
    }
   },
   "source": [
    "###2. 實用技巧閒嗑牙\n",
    "* 下載檔案\n"
   ]
  },
  {
   "cell_type": "markdown",
   "metadata": {
    "slideshow": {
     "slide_type": "subslide"
    }
   },
   "source": [
    "#### 下載檔案範例\n",
    "[CODE HERE]"
   ]
  },
  {
   "cell_type": "markdown",
   "metadata": {},
   "source": [
    "No discussion about crawling pages from the Web can be complete without talking\n",
    "about the Robot Exclusion Protocol. This protocol provides a mechanism for Web\n",
    "server administrators to communicate their file access policies; more specifically to\n",
    "identify files that may not be accessed by a crawler. This is done by keeping a file\n",
    "named robots.txt under the root directory of the Web server (such as http:\n",
    "//www.biz.uiowa.edu/robots.txt). This file provides access policy for\n",
    "different User-agents(robots or crawlers). A User-agent value of “*” denotes a default\n",
    "policy for any crawler that does not match other User-agent values in the file. A\n",
    "number of Disallow entries may be provided for a User-agent. Any URL that starts\n",
    "with the value of a Disallow field must not be retrieved by a crawler matching the\n",
    "User-agent. When a crawler wants to retrieve a page from a Web server, it must\n",
    "first fetch the appropriate robots.txt file and make sure that the URL to be\n",
    "fetched is not disallowed. More details on this exclusion protocol can be found at\n",
    "http://www.robotstxt.org/wc/norobots.html. It is efficient to cache\n",
    "the access policies of a number of servers recently visited by the crawler. This would\n",
    "avoid accessing a robots.txt file each time you need to fetch a URL. However,\n",
    "one must make sure that cache entries remain sufficiently fresh."
   ]
  },
  {
   "cell_type": "code",
   "execution_count": null,
   "metadata": {
    "collapsed": true
   },
   "outputs": [],
   "source": []
  }
 ],
 "metadata": {
  "celltoolbar": "Slideshow",
  "kernelspec": {
   "display_name": "R",
   "language": "",
   "name": "ir"
  },
  "language_info": {
   "codemirror_mode": "r",
   "file_extension": ".r",
   "mimetype": "text/x-r-source",
   "name": "R",
   "pygments_lexer": "r"
  }
 },
 "nbformat": 4,
 "nbformat_minor": 0
}
